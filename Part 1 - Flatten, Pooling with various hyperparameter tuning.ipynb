{
 "cells": [
  {
   "cell_type": "markdown",
   "metadata": {
    "colab_type": "text",
    "id": "view-in-github"
   },
   "source": [
    "# Part 1 - Flatten, Pooling with various hyperparameter tuning\n",
    "\n",
    "\n",
    "This is 1st-part in a 3-parts series: build out 7 neural-nets with hyperparameter-tuning, to identify the best machine-learing model for a sarcasm detector.\n",
    "\n",
    "1. Project sentences into Vector aka Embedding\n",
    "2. Compare 6 neural-nets, along with hyperparameter tuning to determine the best/7th model: stacked LSTMs\n",
    "3. Incorporate a pretained 27-billion token, 1.2-million word vocab in 25 dimensions from Twitter crawl of 2 billion Tweets\n",
    "4. Visualization through Google Projector"
   ]
  },
  {
   "cell_type": "raw",
   "metadata": {},
   "source": [
    "Part 1: (this part)\n",
    "1. Flatten\n",
    "2. Pooling\n",
    "- Hyperparameter tuning\n",
    "\n",
    "Part 2: \n",
    "3. LSTM\n",
    "4. GRU \n",
    "5. CNN\n",
    "\n",
    "Part 3: \n",
    "6. Stacked LSTM\n",
    "- Hyperparameter tuning\n",
    "7. Twitter pretaing\n",
    "\n",
    "\n",
    "Specifically in this part: \n",
    "1. Understand the \"Sarcasm.json\" data a bit\n",
    "2. Build a simple neural-net with one Flatten layer, where the main advantage would be very fast to train\n",
    "3. Change to a Pooling layer with GlobalAveragePooling1D (for fixed-length vendor)\n",
    "4. Hyperparameter tuning (skipping EDA which takes place in Part 3)\n",
    "  a) Learing-rate and Adam optimizer\n",
    "  b) Dimension - from arbitrary to 4th-root\n",
    "  c) Dropout and Regularization (L2)\n",
    "5. Premlinary testing"
   ]
  },
  {
   "cell_type": "markdown",
   "metadata": {},
   "source": [
    "## 0. Libraries"
   ]
  },
  {
   "cell_type": "code",
   "execution_count": 1,
   "metadata": {
    "colab": {},
    "colab_type": "code",
    "id": "XYYDvoskkE61"
   },
   "outputs": [],
   "source": [
    "import numpy as np\n",
    "import matplotlib.pyplot as plt\n",
    "import json\n",
    "\n",
    "import tensorflow as tf\n",
    "from tensorflow.keras.preprocessing.text import Tokenizer\n",
    "from tensorflow.keras.preprocessing.sequence import pad_sequences"
   ]
  },
  {
   "cell_type": "markdown",
   "metadata": {},
   "source": [
    "## 1. Build \"Stopwords\"\n",
    "\n",
    "Just like TF/IDF days, where frequency of words may be inversely related to the importance ... anyone remember LDA, hehe.  "
   ]
  },
  {
   "cell_type": "code",
   "execution_count": 2,
   "metadata": {
    "colab": {},
    "colab_type": "code",
    "id": "WpOdgZnNlWY5"
   },
   "outputs": [],
   "source": [
    "from bs4 import BeautifulSoup\n",
    "import string\n",
    "\n",
    "stopwords_list = [\"a\", \"about\", \"above\", \"after\", \"again\", \"against\", \"all\", \"am\", \"an\", \"and\", \"any\", \"are\", \"as\", \"at\",\n",
    "             \"be\", \"because\", \"been\", \"before\", \"being\", \"below\", \"between\", \"both\", \"but\", \"by\", \"could\", \"did\", \"do\",\n",
    "             \"does\", \"doing\", \"down\", \"during\", \"each\", \"few\", \"for\", \"from\", \"further\", \"had\", \"has\", \"have\", \"having\",\n",
    "             \"he\", \"hed\", \"hes\", \"her\", \"here\", \"heres\", \"hers\", \"herself\", \"him\", \"himself\", \"his\", \"how\",\n",
    "             \"hows\", \"i\", \"id\", \"ill\", \"im\", \"ive\", \"if\", \"in\", \"into\", \"is\", \"it\", \"its\", \"itself\",\n",
    "             \"lets\", \"me\", \"more\", \"most\", \"my\", \"myself\", \"nor\", \"of\", \"on\", \"once\", \"only\", \"or\", \"other\", \"ought\",\n",
    "             \"our\", \"ours\", \"ourselves\", \"out\", \"over\", \"own\", \"same\", \"she\", \"shed\", \"shell\", \"shes\", \"should\",\n",
    "             \"so\", \"some\", \"such\", \"than\", \"that\", \"thats\", \"the\", \"their\", \"theirs\", \"them\", \"themselves\", \"then\",\n",
    "             \"there\", \"theres\", \"these\", \"they\", \"theyd\", \"theyll\", \"theyre\", \"theyve\", \"this\", \"those\", \"through\",\n",
    "             \"to\", \"too\", \"under\", \"until\", \"up\", \"very\", \"was\", \"we\", \"wed\", \"well\", \"were\", \"weve\", \"were\",\n",
    "             \"what\", \"whats\", \"when\", \"whens\", \"where\", \"wheres\", \"which\", \"while\", \"who\", \"whos\", \"whom\", \"why\",\n",
    "             \"whys\", \"with\", \"would\", \"you\", \"youd\", \"youll\", \"youre\", \"youve\", \"your\", \"yours\", \"yourself\",\n",
    "             \"yourselves\"]\n",
    "\n",
    "# Create the mapping table to use in translate()\n",
    "stopwords_table = str.maketrans('', '', string.punctuation)"
   ]
  },
  {
   "cell_type": "markdown",
   "metadata": {
    "colab": {},
    "colab_type": "code",
    "id": "BQVuQrZNkPn9"
   },
   "source": [
    "## 2. Process \"sarcasm.json\" file \n",
    "\n",
    "Sarcasm data provided by Laurency Moroney https://storage.googleapis.com/laurencemoroney-blog.appspot.com/sarcasm.json\n",
    "\n",
    "Data looks like this"
   ]
  },
  {
   "cell_type": "raw",
   "metadata": {},
   "source": [
    "{\"article_link\": \"https://www.huffingtonpost.com/entry/versace-black-code_us_5861fbefe4b0de3a08f600d5\", \"headline\": \"former versace store clerk sues over secret 'black code' for minority shoppers\", \"is_sarcastic\": 0},\n",
    "{\"article_link\": \"https://www.huffingtonpost.com/entry/roseanne-revival-review_us_5ab3a497e4b054d118e04365\", \"headline\": \"the 'roseanne' revival catches up to our thorny political mood, for better and worse\", \"is_sarcastic\": 0},\n",
    "{\"article_link\": \"https://local.theonion.com/mom-starting-to-fear-son-s-web-series-closest-thing-she-1819576697\", \"headline\": \"mom starting to fear son's web series closest thing she will have to grandchild\", \"is_sarcastic\": 1},"
   ]
  },
  {
   "cell_type": "code",
   "execution_count": 3,
   "metadata": {},
   "outputs": [
    {
     "name": "stdout",
     "output_type": "stream",
     "text": [
      "records total 26709\n"
     ]
    }
   ],
   "source": [
    "with open(\"sarcasm.json\", 'r') as f:\n",
    "    datastore = json.load(f)\n",
    "\n",
    "print(\"records total\", len(datastore))"
   ]
  },
  {
   "cell_type": "markdown",
   "metadata": {},
   "source": [
    "### 2.1. Load sentences, cleaning text and exclude \"stopwords\""
   ]
  },
  {
   "cell_type": "code",
   "execution_count": 4,
   "metadata": {
    "colab": {},
    "colab_type": "code",
    "id": "oaLaaqhNkUPd"
   },
   "outputs": [],
   "source": [
    "sentences = [] \n",
    "labels = []\n",
    "urls = []\n",
    "\n",
    "for item in datastore:\n",
    "    sentence = item['headline'].lower()\n",
    "    sentence = sentence.replace(\",\", \" , \")\n",
    "    sentence = sentence.replace(\".\", \" . \")\n",
    "    sentence = sentence.replace(\"-\", \" - \")\n",
    "    sentence = sentence.replace(\"/\", \" / \")\n",
    "    soup = BeautifulSoup(sentence)\n",
    "    sentence = soup.get_text()\n",
    "    words = sentence.split()\n",
    "    filtered_sentence = \"\"\n",
    "    for word in words:\n",
    "        word = word.translate(stopwords_table) #replace specified characters with the character described the mapping table\n",
    "        if word not in stopwords_table:\n",
    "            filtered_sentence = filtered_sentence + word + \" \"\n",
    "    sentences.append(filtered_sentence)\n",
    "    labels.append(item['is_sarcastic'])\n",
    "    urls.append(item['article_link'])"
   ]
  },
  {
   "cell_type": "markdown",
   "metadata": {},
   "source": [
    "### 2.2. Sample data"
   ]
  },
  {
   "cell_type": "code",
   "execution_count": 5,
   "metadata": {},
   "outputs": [
    {
     "name": "stdout",
     "output_type": "stream",
     "text": [
      "The length of list is:  26709\n",
      "The last 10 elements of list are :  ['what you should buy your basic friend  according to pinterest ', 'whats in your mailbox tips on what to do when uncle sam comes knocking ', 'paul ryan is more of a con man than ever ', 'pentagon to withhold budget figures out of respect for american families ', 'pope francis wearing sweater vestments he got for christmas ', 'american politics in moral free  fall ', 'americas best 20 hikes ', 'reparations and obama ', 'israeli ban targeting boycott supporters raises alarm abroad ', 'gourmet gifts for the foodie 2014 '] elements of label are :  [0, 0, 0, 1, 1, 0, 0, 0, 0, 0]\n"
     ]
    }
   ],
   "source": [
    "print(\"The length of list is: \", len(sentences))\n",
    "\n",
    "# Show the last N elements\n",
    "N = 10\n",
    "print(\"The last\", N, \"elements of list are : \", str(sentences[-N:]), \"elements of label are : \", str(labels[-N:]))"
   ]
  },
  {
   "cell_type": "markdown",
   "metadata": {},
   "source": [
    "### 2.3. Train/split"
   ]
  },
  {
   "cell_type": "code",
   "execution_count": 6,
   "metadata": {},
   "outputs": [],
   "source": [
    "training_size = 23000\n",
    "training_sentences = sentences[0:training_size]\n",
    "testing_sentences = sentences[training_size:]\n",
    "training_labels = labels[0:training_size]\n",
    "testing_labels = labels[training_size:]"
   ]
  },
  {
   "cell_type": "markdown",
   "metadata": {},
   "source": [
    "### 2.4. Sentenses into sequences with Tokenizer, Padding and \"Out-of-Vocabulary\" tokens"
   ]
  },
  {
   "cell_type": "code",
   "execution_count": 7,
   "metadata": {},
   "outputs": [
    {
     "name": "stdout",
     "output_type": "stream",
     "text": [
      "24437\n"
     ]
    }
   ],
   "source": [
    "vocab_size = 10000\n",
    "oov_tok = \"<OOV>\"\n",
    "\n",
    "tokenizer = Tokenizer(num_words=vocab_size, oov_token=oov_tok)\n",
    "tokenizer.fit_on_texts(training_sentences)\n",
    "\n",
    "word_index = tokenizer.word_index\n",
    "word_count = tokenizer.word_counts\n",
    "##print(word_count)\n",
    "print(len(word_index))\n",
    "\n",
    "max_length = 100\n",
    "trunc_type='post'\n",
    "padding_type='post'\n",
    "\n",
    "training_sequences = tokenizer.texts_to_sequences(training_sentences)\n",
    "training_padded = pad_sequences(training_sequences, maxlen=max_length, padding=padding_type, truncating=trunc_type)\n",
    "\n",
    "testing_sequences = tokenizer.texts_to_sequences(testing_sentences)\n",
    "testing_padded = pad_sequences(testing_sequences, maxlen=max_length, padding=padding_type, truncating=trunc_type)"
   ]
  },
  {
   "cell_type": "markdown",
   "metadata": {},
   "source": [
    "### 2.5. Convert to Numpy"
   ]
  },
  {
   "cell_type": "code",
   "execution_count": 8,
   "metadata": {},
   "outputs": [],
   "source": [
    "training_padded = np.array(training_padded)\n",
    "training_labels = np.array(training_labels)\n",
    "testing_padded = np.array(testing_padded)\n",
    "testing_labels = np.array(testing_labels)"
   ]
  },
  {
   "cell_type": "markdown",
   "metadata": {},
   "source": [
    "### 2.6. Helper function for ploting "
   ]
  },
  {
   "cell_type": "code",
   "execution_count": 9,
   "metadata": {},
   "outputs": [],
   "source": [
    "def plot_graphs(history, string):\n",
    "  plt.plot(history.history[string])\n",
    "  plt.plot(history.history['val_'+string])\n",
    "  plt.xlabel(\"Epochs\")\n",
    "  plt.ylabel(string)\n",
    "  plt.legend([string, 'val_'+string])\n",
    "  plt.show()"
   ]
  },
  {
   "cell_type": "markdown",
   "metadata": {},
   "source": [
    "# Model 1: Flatten\n",
    "\n",
    "We begin with a simple Flatten layer. Main advantage is very fast to train. \n",
    "\n",
    "Specifically, \n",
    "1. 16-dimension (arbitary, will tune)\n",
    "2. Flatten layer\n",
    "3. Followed by a dense layer with 24-neuron.\n",
    "4. Final layer is 1 neuron with sigmoid for binary outcome \n",
    "5. Epochs = 30"
   ]
  },
  {
   "cell_type": "code",
   "execution_count": 10,
   "metadata": {},
   "outputs": [],
   "source": [
    "# Set model-parameters\n",
    "embedding_dim = 16\n",
    "dense_dim = 24 # original 6\n",
    "num_epochs = 30"
   ]
  },
  {
   "cell_type": "code",
   "execution_count": 11,
   "metadata": {},
   "outputs": [
    {
     "name": "stdout",
     "output_type": "stream",
     "text": [
      "Model: \"sequential\"\n",
      "_________________________________________________________________\n",
      " Layer (type)                Output Shape              Param #   \n",
      "=================================================================\n",
      " embedding (Embedding)       (None, 100, 16)           160000    \n",
      "                                                                 \n",
      " flatten (Flatten)           (None, 1600)              0         \n",
      "                                                                 \n",
      " dense (Dense)               (None, 24)                38424     \n",
      "                                                                 \n",
      " dense_1 (Dense)             (None, 1)                 25        \n",
      "                                                                 \n",
      "=================================================================\n",
      "Total params: 198,449\n",
      "Trainable params: 198,449\n",
      "Non-trainable params: 0\n",
      "_________________________________________________________________\n"
     ]
    }
   ],
   "source": [
    "flatten_model = tf.keras.Sequential([\n",
    "    tf.keras.layers.Embedding(vocab_size, embedding_dim, input_length=max_length),\n",
    "#  input_length: Length of input sequences, when it is constant. \n",
    "# Required if connect Flatten then Dense layers upstream (without it, the shape of the dense outputs cannot be computed).\n",
    "    tf.keras.layers.Flatten(),\n",
    "    tf.keras.layers.Dense(dense_dim, activation='relu'),\n",
    "    tf.keras.layers.Dense(1, activation='sigmoid')\n",
    "])\n",
    "\n",
    "flatten_model.compile(loss='binary_crossentropy',optimizer='adam',metrics=['accuracy'])\n",
    "flatten_model.summary()"
   ]
  },
  {
   "cell_type": "code",
   "execution_count": 12,
   "metadata": {},
   "outputs": [
    {
     "name": "stdout",
     "output_type": "stream",
     "text": [
      "Epoch 1/30\n",
      "719/719 [==============================] - 4s 5ms/step - loss: 0.4255 - accuracy: 0.7887 - val_loss: 0.3116 - val_accuracy: 0.8676\n",
      "Epoch 2/30\n",
      "719/719 [==============================] - 3s 4ms/step - loss: 0.2029 - accuracy: 0.9207 - val_loss: 0.3209 - val_accuracy: 0.8649\n",
      "Epoch 3/30\n",
      "719/719 [==============================] - 3s 4ms/step - loss: 0.1035 - accuracy: 0.9664 - val_loss: 0.3825 - val_accuracy: 0.8603\n",
      "Epoch 4/30\n",
      "719/719 [==============================] - 3s 4ms/step - loss: 0.0424 - accuracy: 0.9887 - val_loss: 0.4603 - val_accuracy: 0.8601\n",
      "Epoch 5/30\n",
      "719/719 [==============================] - 3s 4ms/step - loss: 0.0160 - accuracy: 0.9970 - val_loss: 0.5401 - val_accuracy: 0.8571\n",
      "Epoch 6/30\n",
      "719/719 [==============================] - 3s 4ms/step - loss: 0.0060 - accuracy: 0.9990 - val_loss: 0.5854 - val_accuracy: 0.8576\n",
      "Epoch 7/30\n",
      "719/719 [==============================] - 3s 5ms/step - loss: 0.0028 - accuracy: 0.9996 - val_loss: 0.6457 - val_accuracy: 0.8590\n",
      "Epoch 8/30\n",
      "719/719 [==============================] - 3s 4ms/step - loss: 0.0017 - accuracy: 0.9996 - val_loss: 0.7047 - val_accuracy: 0.8590\n",
      "Epoch 9/30\n",
      "719/719 [==============================] - 4s 5ms/step - loss: 0.0014 - accuracy: 0.9997 - val_loss: 0.7427 - val_accuracy: 0.8582\n",
      "Epoch 10/30\n",
      "719/719 [==============================] - 4s 5ms/step - loss: 0.0010 - accuracy: 0.9998 - val_loss: 0.7910 - val_accuracy: 0.8568\n",
      "Epoch 11/30\n",
      "719/719 [==============================] - 4s 5ms/step - loss: 0.0011 - accuracy: 0.9997 - val_loss: 0.8339 - val_accuracy: 0.8563\n",
      "Epoch 12/30\n",
      "719/719 [==============================] - 3s 5ms/step - loss: 0.0011 - accuracy: 0.9996 - val_loss: 0.9157 - val_accuracy: 0.8479\n",
      "Epoch 13/30\n",
      "719/719 [==============================] - 3s 4ms/step - loss: 0.0011 - accuracy: 0.9996 - val_loss: 0.9162 - val_accuracy: 0.8533\n",
      "Epoch 14/30\n",
      "719/719 [==============================] - 3s 4ms/step - loss: 0.0012 - accuracy: 0.9995 - val_loss: 0.9983 - val_accuracy: 0.8571\n",
      "Epoch 15/30\n",
      "719/719 [==============================] - 5s 7ms/step - loss: 7.7331e-04 - accuracy: 0.9997 - val_loss: 1.0278 - val_accuracy: 0.8517\n",
      "Epoch 16/30\n",
      "719/719 [==============================] - 6s 9ms/step - loss: 0.0011 - accuracy: 0.9996 - val_loss: 1.0350 - val_accuracy: 0.8547\n",
      "Epoch 17/30\n",
      "719/719 [==============================] - 5s 7ms/step - loss: 5.8621e-04 - accuracy: 0.9998 - val_loss: 1.0178 - val_accuracy: 0.8496\n",
      "Epoch 18/30\n",
      "719/719 [==============================] - 5s 6ms/step - loss: 6.6331e-04 - accuracy: 0.9997 - val_loss: 1.1001 - val_accuracy: 0.8452\n",
      "Epoch 19/30\n",
      "719/719 [==============================] - 4s 6ms/step - loss: 6.8799e-04 - accuracy: 0.9997 - val_loss: 1.1379 - val_accuracy: 0.8479\n",
      "Epoch 20/30\n",
      "719/719 [==============================] - 4s 6ms/step - loss: 0.0011 - accuracy: 0.9996 - val_loss: 1.0869 - val_accuracy: 0.8361\n",
      "Epoch 21/30\n",
      "719/719 [==============================] - 4s 6ms/step - loss: 6.5853e-04 - accuracy: 0.9998 - val_loss: 1.1790 - val_accuracy: 0.8407\n",
      "Epoch 22/30\n",
      "719/719 [==============================] - 4s 6ms/step - loss: 3.8828e-04 - accuracy: 0.9999 - val_loss: 1.2778 - val_accuracy: 0.8353\n",
      "Epoch 23/30\n",
      "719/719 [==============================] - 5s 7ms/step - loss: 8.3219e-04 - accuracy: 0.9998 - val_loss: 1.1790 - val_accuracy: 0.8363\n",
      "Epoch 24/30\n",
      "719/719 [==============================] - 4s 5ms/step - loss: 6.2145e-04 - accuracy: 0.9998 - val_loss: 1.1088 - val_accuracy: 0.8369\n",
      "Epoch 25/30\n",
      "719/719 [==============================] - 4s 6ms/step - loss: 8.4258e-04 - accuracy: 0.9997 - val_loss: 1.1898 - val_accuracy: 0.8393\n",
      "Epoch 26/30\n",
      "719/719 [==============================] - 5s 6ms/step - loss: 3.4939e-04 - accuracy: 0.9999 - val_loss: 1.1090 - val_accuracy: 0.8396\n",
      "Epoch 27/30\n",
      "719/719 [==============================] - 4s 5ms/step - loss: 8.8952e-04 - accuracy: 0.9997 - val_loss: 1.2445 - val_accuracy: 0.8358\n",
      "Epoch 28/30\n",
      "719/719 [==============================] - 4s 5ms/step - loss: 5.5130e-04 - accuracy: 0.9998 - val_loss: 1.3224 - val_accuracy: 0.8358\n",
      "Epoch 29/30\n",
      "719/719 [==============================] - 4s 5ms/step - loss: 7.0190e-04 - accuracy: 0.9998 - val_loss: 1.2227 - val_accuracy: 0.8326\n",
      "Epoch 30/30\n",
      "719/719 [==============================] - 4s 5ms/step - loss: 6.7767e-04 - accuracy: 0.9998 - val_loss: 1.3515 - val_accuracy: 0.8358\n"
     ]
    }
   ],
   "source": [
    "flatten_history  = flatten_model.fit(training_padded, training_labels,\n",
    "                                     epochs=num_epochs, validation_data=(testing_padded, testing_labels))"
   ]
  },
  {
   "cell_type": "markdown",
   "metadata": {},
   "source": [
    "## Result"
   ]
  },
  {
   "cell_type": "code",
   "execution_count": 13,
   "metadata": {},
   "outputs": [
    {
     "data": {
      "image/png": "[encoded data removed]",
      "text/plain": [
       "<Figure size 432x288 with 1 Axes>"
      ]
     },
     "metadata": {
      "needs_background": "light"
     },
     "output_type": "display_data"
    },
    {
     "data": {
      "image/png": "[encoded data removed]",
      "text/plain": [
       "<Figure size 432x288 with 1 Axes>"
      ]
     },
     "metadata": {
      "needs_background": "light"
     },
     "output_type": "display_data"
    }
   ],
   "source": [
    "plot_graphs(flatten_history, 'accuracy')\n",
    "plot_graphs(flatten_history, 'loss')"
   ]
  },
  {
   "cell_type": "markdown",
   "metadata": {},
   "source": [
    "# Model 2 : Pooling \n",
    "\n",
    "\n",
    "In the this section, we will \n",
    "1. Stay with 16-dimension (as 16 is arbitary, we will tune in next section)\n",
    "2. Flatten layer is replaced with pooling and specifically, GlobalAveragePooling1D to average out for a fixed-length vendor\n",
    "\n",
    "Rest is the same\n",
    "3. Followed by a dense layer with 24-neuron.\n",
    "4. Final layer is 1 neuron with sigmoid for binary outcome \n",
    "5. Epochs = 30"
   ]
  },
  {
   "cell_type": "code",
   "execution_count": 14,
   "metadata": {},
   "outputs": [
    {
     "name": "stdout",
     "output_type": "stream",
     "text": [
      "Model: \"sequential_1\"\n",
      "_________________________________________________________________\n",
      " Layer (type)                Output Shape              Param #   \n",
      "=================================================================\n",
      " embedding_1 (Embedding)     (None, None, 16)          160000    \n",
      "                                                                 \n",
      " global_average_pooling1d (G  (None, 16)               0         \n",
      " lobalAveragePooling1D)                                          \n",
      "                                                                 \n",
      " dense_2 (Dense)             (None, 24)                408       \n",
      "                                                                 \n",
      " dense_3 (Dense)             (None, 1)                 25        \n",
      "                                                                 \n",
      "=================================================================\n",
      "Total params: 160,433\n",
      "Trainable params: 160,433\n",
      "Non-trainable params: 0\n",
      "_________________________________________________________________\n"
     ]
    }
   ],
   "source": [
    "pooling_model = tf.keras.Sequential([\n",
    "    tf.keras.layers.Embedding(vocab_size, embedding_dim),\n",
    "    tf.keras.layers.GlobalAveragePooling1D(),\n",
    "    tf.keras.layers.Dense(dense_dim, activation='relu'),\n",
    "    tf.keras.layers.Dense(1, activation='sigmoid')\n",
    "])\n",
    "    \n",
    "pooling_model.compile(loss='binary_crossentropy',optimizer='adam', metrics=['accuracy'])\n",
    "pooling_model.summary() "
   ]
  },
  {
   "cell_type": "code",
   "execution_count": 15,
   "metadata": {},
   "outputs": [
    {
     "name": "stdout",
     "output_type": "stream",
     "text": [
      "Epoch 1/30\n",
      "719/719 - 5s - loss: 0.6623 - accuracy: 0.5869 - val_loss: 0.5639 - val_accuracy: 0.7123 - 5s/epoch - 7ms/step\n",
      "Epoch 2/30\n",
      "719/719 - 4s - loss: 0.4276 - accuracy: 0.8301 - val_loss: 0.3766 - val_accuracy: 0.8509 - 4s/epoch - 5ms/step\n",
      "Epoch 3/30\n",
      "719/719 - 4s - loss: 0.3185 - accuracy: 0.8734 - val_loss: 0.3498 - val_accuracy: 0.8552 - 4s/epoch - 5ms/step\n",
      "Epoch 4/30\n",
      "719/719 - 3s - loss: 0.2707 - accuracy: 0.8939 - val_loss: 0.3395 - val_accuracy: 0.8541 - 3s/epoch - 5ms/step\n",
      "Epoch 5/30\n",
      "719/719 - 3s - loss: 0.2391 - accuracy: 0.9067 - val_loss: 0.3414 - val_accuracy: 0.8498 - 3s/epoch - 4ms/step\n",
      "Epoch 6/30\n",
      "719/719 - 4s - loss: 0.2131 - accuracy: 0.9180 - val_loss: 0.3437 - val_accuracy: 0.8533 - 4s/epoch - 5ms/step\n",
      "Epoch 7/30\n",
      "719/719 - 3s - loss: 0.1924 - accuracy: 0.9275 - val_loss: 0.3594 - val_accuracy: 0.8536 - 3s/epoch - 4ms/step\n",
      "Epoch 8/30\n",
      "719/719 - 3s - loss: 0.1748 - accuracy: 0.9353 - val_loss: 0.3643 - val_accuracy: 0.8555 - 3s/epoch - 4ms/step\n",
      "Epoch 9/30\n",
      "719/719 - 3s - loss: 0.1622 - accuracy: 0.9399 - val_loss: 0.4078 - val_accuracy: 0.8447 - 3s/epoch - 4ms/step\n",
      "Epoch 10/30\n",
      "719/719 - 3s - loss: 0.1497 - accuracy: 0.9455 - val_loss: 0.3943 - val_accuracy: 0.8555 - 3s/epoch - 4ms/step\n",
      "Epoch 11/30\n",
      "719/719 - 3s - loss: 0.1370 - accuracy: 0.9523 - val_loss: 0.4233 - val_accuracy: 0.8485 - 3s/epoch - 4ms/step\n",
      "Epoch 12/30\n",
      "719/719 - 3s - loss: 0.1278 - accuracy: 0.9548 - val_loss: 0.4350 - val_accuracy: 0.8496 - 3s/epoch - 4ms/step\n",
      "Epoch 13/30\n",
      "719/719 - 3s - loss: 0.1199 - accuracy: 0.9591 - val_loss: 0.4838 - val_accuracy: 0.8372 - 3s/epoch - 4ms/step\n",
      "Epoch 14/30\n",
      "719/719 - 3s - loss: 0.1121 - accuracy: 0.9617 - val_loss: 0.4758 - val_accuracy: 0.8471 - 3s/epoch - 5ms/step\n",
      "Epoch 15/30\n",
      "719/719 - 3s - loss: 0.1056 - accuracy: 0.9641 - val_loss: 0.4934 - val_accuracy: 0.8436 - 3s/epoch - 5ms/step\n",
      "Epoch 16/30\n",
      "719/719 - 2s - loss: 0.0972 - accuracy: 0.9683 - val_loss: 0.5226 - val_accuracy: 0.8372 - 2s/epoch - 3ms/step\n",
      "Epoch 17/30\n",
      "719/719 - 2s - loss: 0.0914 - accuracy: 0.9711 - val_loss: 0.5448 - val_accuracy: 0.8385 - 2s/epoch - 3ms/step\n",
      "Epoch 18/30\n",
      "719/719 - 3s - loss: 0.0868 - accuracy: 0.9719 - val_loss: 0.5793 - val_accuracy: 0.8385 - 3s/epoch - 3ms/step\n",
      "Epoch 19/30\n",
      "719/719 - 2s - loss: 0.0819 - accuracy: 0.9729 - val_loss: 0.6050 - val_accuracy: 0.8382 - 2s/epoch - 3ms/step\n",
      "Epoch 20/30\n",
      "719/719 - 3s - loss: 0.0768 - accuracy: 0.9753 - val_loss: 0.6429 - val_accuracy: 0.8374 - 3s/epoch - 5ms/step\n",
      "Epoch 21/30\n",
      "719/719 - 4s - loss: 0.0723 - accuracy: 0.9771 - val_loss: 0.6591 - val_accuracy: 0.8277 - 4s/epoch - 5ms/step\n",
      "Epoch 22/30\n",
      "719/719 - 4s - loss: 0.0686 - accuracy: 0.9787 - val_loss: 0.7045 - val_accuracy: 0.8323 - 4s/epoch - 5ms/step\n",
      "Epoch 23/30\n",
      "719/719 - 3s - loss: 0.0651 - accuracy: 0.9793 - val_loss: 0.7072 - val_accuracy: 0.8264 - 3s/epoch - 5ms/step\n",
      "Epoch 24/30\n",
      "719/719 - 3s - loss: 0.0610 - accuracy: 0.9820 - val_loss: 0.7418 - val_accuracy: 0.8272 - 3s/epoch - 5ms/step\n",
      "Epoch 25/30\n",
      "719/719 - 5s - loss: 0.0580 - accuracy: 0.9826 - val_loss: 0.8053 - val_accuracy: 0.8274 - 5s/epoch - 6ms/step\n",
      "Epoch 26/30\n",
      "719/719 - 3s - loss: 0.0539 - accuracy: 0.9837 - val_loss: 0.8503 - val_accuracy: 0.8245 - 3s/epoch - 5ms/step\n",
      "Epoch 27/30\n",
      "719/719 - 4s - loss: 0.0514 - accuracy: 0.9847 - val_loss: 0.8677 - val_accuracy: 0.8191 - 4s/epoch - 6ms/step\n",
      "Epoch 28/30\n",
      "719/719 - 4s - loss: 0.0477 - accuracy: 0.9871 - val_loss: 0.8765 - val_accuracy: 0.8194 - 4s/epoch - 5ms/step\n",
      "Epoch 29/30\n",
      "719/719 - 4s - loss: 0.0450 - accuracy: 0.9877 - val_loss: 0.9021 - val_accuracy: 0.8191 - 4s/epoch - 5ms/step\n",
      "Epoch 30/30\n",
      "719/719 - 3s - loss: 0.0435 - accuracy: 0.9870 - val_loss: 0.9551 - val_accuracy: 0.8137 - 3s/epoch - 4ms/step\n"
     ]
    }
   ],
   "source": [
    "pooling_history = pooling_model.fit(training_padded, training_labels, epochs=num_epochs, \n",
    "                              validation_data=(testing_padded, testing_labels), verbose=2)"
   ]
  },
  {
   "cell_type": "markdown",
   "metadata": {},
   "source": [
    "## Result"
   ]
  },
  {
   "cell_type": "code",
   "execution_count": 16,
   "metadata": {},
   "outputs": [
    {
     "data": {
      "image/png": "[encoded data removed]",
      "text/plain": [
       "<Figure size 432x288 with 1 Axes>"
      ]
     },
     "metadata": {
      "needs_background": "light"
     },
     "output_type": "display_data"
    },
    {
     "data": {
      "image/png": "[encoded data removed]",
      "text/plain": [
       "<Figure size 432x288 with 1 Axes>"
      ]
     },
     "metadata": {
      "needs_background": "light"
     },
     "output_type": "display_data"
    }
   ],
   "source": [
    "plot_graphs(pooling_history, \"accuracy\")\n",
    "plot_graphs(pooling_history, \"loss\")"
   ]
  },
  {
   "cell_type": "markdown",
   "metadata": {},
   "source": [
    "### We are overfitting\n",
    "\n",
    "From the plotting of train/valid accuracy and loss, we see that:\n",
    "1. Accuracy-curve for train/validation is reasonable, considering validation data may contains many words unseen in training data\n",
    "2. However, validation vs. training-loss is diverging sharply\n",
    "\n",
    "\n",
    "# Hyperparameter tuning \n",
    "\n",
    "Usually, we should not dive straight to hyperparameter tuning. \n",
    "\n",
    "We need EDA (and domain-knowledge if necessary), to surface whether there are other more effective means. For example, in our case, tokenize with different vocabulary size. \n",
    "\n",
    "Assuming we have done that, let's move to some mechanisms to reduce overfitting. \n",
    "\n",
    "## 1. Learing-rate and optimizer\n",
    "- Adjust learning rate from Default of 0.001 -> 0.0001\n",
    "- Beta_1/2 as default \n",
    "- Optimzer from Adam -> Adam + gradient descent \n",
    "- Epochs from 30 -> 100"
   ]
  },
  {
   "cell_type": "code",
   "execution_count": 17,
   "metadata": {},
   "outputs": [
    {
     "name": "stdout",
     "output_type": "stream",
     "text": [
      "Model: \"sequential_2\"\n",
      "_________________________________________________________________\n",
      " Layer (type)                Output Shape              Param #   \n",
      "=================================================================\n",
      " embedding_2 (Embedding)     (None, None, 16)          160000    \n",
      "                                                                 \n",
      " global_average_pooling1d_1   (None, 16)               0         \n",
      " (GlobalAveragePooling1D)                                        \n",
      "                                                                 \n",
      " dense_4 (Dense)             (None, 24)                408       \n",
      "                                                                 \n",
      " dense_5 (Dense)             (None, 1)                 25        \n",
      "                                                                 \n",
      "=================================================================\n",
      "Total params: 160,433\n",
      "Trainable params: 160,433\n",
      "Non-trainable params: 0\n",
      "_________________________________________________________________\n"
     ]
    }
   ],
   "source": [
    "num_epochs = 100\n",
    "\n",
    "tuning_model = tf.keras.Sequential([\n",
    "    tf.keras.layers.Embedding(vocab_size, embedding_dim),\n",
    "    tf.keras.layers.GlobalAveragePooling1D(),\n",
    "    tf.keras.layers.Dense(dense_dim, activation='relu'),\n",
    "    tf.keras.layers.Dense(1, activation='sigmoid')\n",
    "])\n",
    "\n",
    "adam = tf.keras.optimizers.Adam(learning_rate=0.0001, beta_1=0.9, beta_2=0.999, amsgrad=False) \n",
    "tuning_model.compile(loss='binary_crossentropy',optimizer=adam, metrics=['accuracy'])\n",
    "\n",
    "tuning_model.summary() "
   ]
  },
  {
   "cell_type": "code",
   "execution_count": 18,
   "metadata": {},
   "outputs": [
    {
     "name": "stdout",
     "output_type": "stream",
     "text": [
      "Epoch 1/100\n",
      "719/719 - 4s - loss: 0.6880 - accuracy: 0.5596 - val_loss: 0.6833 - val_accuracy: 0.5700 - 4s/epoch - 5ms/step\n",
      "Epoch 2/100\n",
      "719/719 - 3s - loss: 0.6845 - accuracy: 0.5596 - val_loss: 0.6814 - val_accuracy: 0.5700 - 3s/epoch - 4ms/step\n",
      "Epoch 3/100\n",
      "719/719 - 3s - loss: 0.6825 - accuracy: 0.5596 - val_loss: 0.6787 - val_accuracy: 0.5700 - 3s/epoch - 4ms/step\n",
      "Epoch 4/100\n",
      "719/719 - 3s - loss: 0.6790 - accuracy: 0.5596 - val_loss: 0.6741 - val_accuracy: 0.5700 - 3s/epoch - 4ms/step\n",
      "Epoch 5/100\n",
      "719/719 - 3s - loss: 0.6721 - accuracy: 0.5596 - val_loss: 0.6657 - val_accuracy: 0.5700 - 3s/epoch - 3ms/step\n",
      "Epoch 6/100\n",
      "719/719 - 3s - loss: 0.6604 - accuracy: 0.5613 - val_loss: 0.6521 - val_accuracy: 0.5840 - 3s/epoch - 3ms/step\n",
      "Epoch 7/100\n",
      "719/719 - 2s - loss: 0.6426 - accuracy: 0.5953 - val_loss: 0.6320 - val_accuracy: 0.6260 - 2s/epoch - 3ms/step\n",
      "Epoch 8/100\n",
      "719/719 - 3s - loss: 0.6186 - accuracy: 0.6684 - val_loss: 0.6071 - val_accuracy: 0.7013 - 3s/epoch - 4ms/step\n",
      "Epoch 9/100\n",
      "719/719 - 3s - loss: 0.5899 - accuracy: 0.7382 - val_loss: 0.5788 - val_accuracy: 0.7573 - 3s/epoch - 4ms/step\n",
      "Epoch 10/100\n",
      "719/719 - 3s - loss: 0.5585 - accuracy: 0.7836 - val_loss: 0.5497 - val_accuracy: 0.7921 - 3s/epoch - 4ms/step\n",
      "Epoch 11/100\n",
      "719/719 - 3s - loss: 0.5266 - accuracy: 0.8094 - val_loss: 0.5217 - val_accuracy: 0.8115 - 3s/epoch - 5ms/step\n",
      "Epoch 12/100\n",
      "719/719 - 4s - loss: 0.4960 - accuracy: 0.8253 - val_loss: 0.4946 - val_accuracy: 0.8172 - 4s/epoch - 6ms/step\n",
      "Epoch 13/100\n",
      "719/719 - 3s - loss: 0.4680 - accuracy: 0.8339 - val_loss: 0.4708 - val_accuracy: 0.8210 - 3s/epoch - 5ms/step\n",
      "Epoch 14/100\n",
      "719/719 - 3s - loss: 0.4431 - accuracy: 0.8429 - val_loss: 0.4514 - val_accuracy: 0.8291 - 3s/epoch - 4ms/step\n",
      "Epoch 15/100\n",
      "719/719 - 4s - loss: 0.4214 - accuracy: 0.8491 - val_loss: 0.4339 - val_accuracy: 0.8342 - 4s/epoch - 5ms/step\n",
      "Epoch 16/100\n",
      "719/719 - 4s - loss: 0.4031 - accuracy: 0.8532 - val_loss: 0.4190 - val_accuracy: 0.8363 - 4s/epoch - 5ms/step\n",
      "Epoch 17/100\n",
      "719/719 - 4s - loss: 0.3869 - accuracy: 0.8572 - val_loss: 0.4081 - val_accuracy: 0.8417 - 4s/epoch - 5ms/step\n",
      "Epoch 18/100\n",
      "719/719 - 3s - loss: 0.3730 - accuracy: 0.8617 - val_loss: 0.3966 - val_accuracy: 0.8412 - 3s/epoch - 4ms/step\n",
      "Epoch 19/100\n",
      "719/719 - 3s - loss: 0.3606 - accuracy: 0.8663 - val_loss: 0.3884 - val_accuracy: 0.8461 - 3s/epoch - 4ms/step\n",
      "Epoch 20/100\n",
      "719/719 - 3s - loss: 0.3496 - accuracy: 0.8693 - val_loss: 0.3809 - val_accuracy: 0.8490 - 3s/epoch - 4ms/step\n",
      "Epoch 21/100\n",
      "719/719 - 2s - loss: 0.3395 - accuracy: 0.8731 - val_loss: 0.3746 - val_accuracy: 0.8509 - 2s/epoch - 3ms/step\n",
      "Epoch 22/100\n",
      "719/719 - 2s - loss: 0.3304 - accuracy: 0.8748 - val_loss: 0.3693 - val_accuracy: 0.8531 - 2s/epoch - 3ms/step\n",
      "Epoch 23/100\n",
      "719/719 - 3s - loss: 0.3219 - accuracy: 0.8786 - val_loss: 0.3647 - val_accuracy: 0.8549 - 3s/epoch - 5ms/step\n",
      "Epoch 24/100\n",
      "719/719 - 3s - loss: 0.3143 - accuracy: 0.8816 - val_loss: 0.3617 - val_accuracy: 0.8544 - 3s/epoch - 5ms/step\n",
      "Epoch 25/100\n",
      "719/719 - 3s - loss: 0.3070 - accuracy: 0.8846 - val_loss: 0.3569 - val_accuracy: 0.8558 - 3s/epoch - 4ms/step\n",
      "Epoch 26/100\n",
      "719/719 - 3s - loss: 0.3002 - accuracy: 0.8871 - val_loss: 0.3537 - val_accuracy: 0.8555 - 3s/epoch - 4ms/step\n",
      "Epoch 27/100\n",
      "719/719 - 2s - loss: 0.2937 - accuracy: 0.8893 - val_loss: 0.3516 - val_accuracy: 0.8585 - 2s/epoch - 3ms/step\n",
      "Epoch 28/100\n",
      "719/719 - 2s - loss: 0.2877 - accuracy: 0.8913 - val_loss: 0.3485 - val_accuracy: 0.8563 - 2s/epoch - 3ms/step\n",
      "Epoch 29/100\n",
      "719/719 - 2s - loss: 0.2819 - accuracy: 0.8930 - val_loss: 0.3461 - val_accuracy: 0.8563 - 2s/epoch - 3ms/step\n",
      "Epoch 30/100\n",
      "719/719 - 2s - loss: 0.2761 - accuracy: 0.8956 - val_loss: 0.3461 - val_accuracy: 0.8579 - 2s/epoch - 3ms/step\n",
      "Epoch 31/100\n",
      "719/719 - 2s - loss: 0.2708 - accuracy: 0.8978 - val_loss: 0.3424 - val_accuracy: 0.8576 - 2s/epoch - 3ms/step\n",
      "Epoch 32/100\n",
      "719/719 - 2s - loss: 0.2657 - accuracy: 0.8996 - val_loss: 0.3410 - val_accuracy: 0.8560 - 2s/epoch - 3ms/step\n",
      "Epoch 33/100\n",
      "719/719 - 3s - loss: 0.2608 - accuracy: 0.9021 - val_loss: 0.3411 - val_accuracy: 0.8590 - 3s/epoch - 4ms/step\n",
      "Epoch 34/100\n",
      "719/719 - 2s - loss: 0.2560 - accuracy: 0.9042 - val_loss: 0.3393 - val_accuracy: 0.8587 - 2s/epoch - 3ms/step\n",
      "Epoch 35/100\n",
      "719/719 - 2s - loss: 0.2513 - accuracy: 0.9061 - val_loss: 0.3376 - val_accuracy: 0.8566 - 2s/epoch - 3ms/step\n",
      "Epoch 36/100\n",
      "719/719 - 2s - loss: 0.2468 - accuracy: 0.9075 - val_loss: 0.3376 - val_accuracy: 0.8595 - 2s/epoch - 3ms/step\n",
      "Epoch 37/100\n",
      "719/719 - 2s - loss: 0.2426 - accuracy: 0.9091 - val_loss: 0.3359 - val_accuracy: 0.8593 - 2s/epoch - 3ms/step\n",
      "Epoch 38/100\n",
      "719/719 - 3s - loss: 0.2385 - accuracy: 0.9108 - val_loss: 0.3358 - val_accuracy: 0.8598 - 3s/epoch - 4ms/step\n",
      "Epoch 39/100\n",
      "719/719 - 2s - loss: 0.2342 - accuracy: 0.9127 - val_loss: 0.3361 - val_accuracy: 0.8595 - 2s/epoch - 3ms/step\n",
      "Epoch 40/100\n",
      "719/719 - 2s - loss: 0.2306 - accuracy: 0.9138 - val_loss: 0.3346 - val_accuracy: 0.8611 - 2s/epoch - 3ms/step\n",
      "Epoch 41/100\n",
      "719/719 - 3s - loss: 0.2266 - accuracy: 0.9157 - val_loss: 0.3343 - val_accuracy: 0.8587 - 3s/epoch - 4ms/step\n",
      "Epoch 42/100\n",
      "719/719 - 3s - loss: 0.2232 - accuracy: 0.9170 - val_loss: 0.3347 - val_accuracy: 0.8598 - 3s/epoch - 4ms/step\n",
      "Epoch 43/100\n",
      "719/719 - 3s - loss: 0.2194 - accuracy: 0.9192 - val_loss: 0.3344 - val_accuracy: 0.8587 - 3s/epoch - 4ms/step\n",
      "Epoch 44/100\n",
      "719/719 - 3s - loss: 0.2160 - accuracy: 0.9208 - val_loss: 0.3354 - val_accuracy: 0.8598 - 3s/epoch - 4ms/step\n",
      "Epoch 45/100\n",
      "719/719 - 3s - loss: 0.2128 - accuracy: 0.9212 - val_loss: 0.3352 - val_accuracy: 0.8609 - 3s/epoch - 4ms/step\n",
      "Epoch 46/100\n",
      "719/719 - 2s - loss: 0.2093 - accuracy: 0.9236 - val_loss: 0.3355 - val_accuracy: 0.8598 - 2s/epoch - 3ms/step\n",
      "Epoch 47/100\n",
      "719/719 - 2s - loss: 0.2062 - accuracy: 0.9250 - val_loss: 0.3359 - val_accuracy: 0.8601 - 2s/epoch - 3ms/step\n",
      "Epoch 48/100\n",
      "719/719 - 3s - loss: 0.2031 - accuracy: 0.9261 - val_loss: 0.3367 - val_accuracy: 0.8611 - 3s/epoch - 4ms/step\n",
      "Epoch 49/100\n",
      "719/719 - 2s - loss: 0.2000 - accuracy: 0.9260 - val_loss: 0.3370 - val_accuracy: 0.8611 - 2s/epoch - 3ms/step\n",
      "Epoch 50/100\n",
      "719/719 - 2s - loss: 0.1971 - accuracy: 0.9282 - val_loss: 0.3377 - val_accuracy: 0.8614 - 2s/epoch - 3ms/step\n",
      "Epoch 51/100\n",
      "719/719 - 2s - loss: 0.1943 - accuracy: 0.9293 - val_loss: 0.3385 - val_accuracy: 0.8603 - 2s/epoch - 3ms/step\n",
      "Epoch 52/100\n",
      "719/719 - 3s - loss: 0.1914 - accuracy: 0.9304 - val_loss: 0.3393 - val_accuracy: 0.8595 - 3s/epoch - 3ms/step\n",
      "Epoch 53/100\n",
      "719/719 - 2s - loss: 0.1887 - accuracy: 0.9314 - val_loss: 0.3412 - val_accuracy: 0.8579 - 2s/epoch - 3ms/step\n",
      "Epoch 54/100\n",
      "719/719 - 2s - loss: 0.1860 - accuracy: 0.9318 - val_loss: 0.3414 - val_accuracy: 0.8593 - 2s/epoch - 3ms/step\n",
      "Epoch 55/100\n",
      "719/719 - 3s - loss: 0.1834 - accuracy: 0.9333 - val_loss: 0.3426 - val_accuracy: 0.8587 - 3s/epoch - 4ms/step\n",
      "Epoch 56/100\n",
      "719/719 - 2s - loss: 0.1807 - accuracy: 0.9343 - val_loss: 0.3441 - val_accuracy: 0.8620 - 2s/epoch - 3ms/step\n",
      "Epoch 57/100\n",
      "719/719 - 2s - loss: 0.1783 - accuracy: 0.9357 - val_loss: 0.3451 - val_accuracy: 0.8595 - 2s/epoch - 3ms/step\n",
      "Epoch 58/100\n",
      "719/719 - 3s - loss: 0.1759 - accuracy: 0.9369 - val_loss: 0.3466 - val_accuracy: 0.8614 - 3s/epoch - 4ms/step\n",
      "Epoch 59/100\n",
      "719/719 - 3s - loss: 0.1732 - accuracy: 0.9378 - val_loss: 0.3494 - val_accuracy: 0.8620 - 3s/epoch - 4ms/step\n",
      "Epoch 60/100\n",
      "719/719 - 3s - loss: 0.1712 - accuracy: 0.9391 - val_loss: 0.3493 - val_accuracy: 0.8611 - 3s/epoch - 4ms/step\n",
      "Epoch 61/100\n",
      "719/719 - 3s - loss: 0.1688 - accuracy: 0.9389 - val_loss: 0.3516 - val_accuracy: 0.8603 - 3s/epoch - 4ms/step\n",
      "Epoch 62/100\n",
      "719/719 - 3s - loss: 0.1665 - accuracy: 0.9404 - val_loss: 0.3525 - val_accuracy: 0.8611 - 3s/epoch - 4ms/step\n",
      "Epoch 63/100\n",
      "719/719 - 3s - loss: 0.1644 - accuracy: 0.9417 - val_loss: 0.3541 - val_accuracy: 0.8598 - 3s/epoch - 4ms/step\n",
      "Epoch 64/100\n",
      "719/719 - 3s - loss: 0.1622 - accuracy: 0.9418 - val_loss: 0.3580 - val_accuracy: 0.8587 - 3s/epoch - 4ms/step\n",
      "Epoch 65/100\n",
      "719/719 - 2s - loss: 0.1602 - accuracy: 0.9421 - val_loss: 0.3595 - val_accuracy: 0.8574 - 2s/epoch - 3ms/step\n",
      "Epoch 66/100\n",
      "719/719 - 2s - loss: 0.1582 - accuracy: 0.9438 - val_loss: 0.3601 - val_accuracy: 0.8601 - 2s/epoch - 3ms/step\n",
      "Epoch 67/100\n",
      "719/719 - 3s - loss: 0.1559 - accuracy: 0.9437 - val_loss: 0.3615 - val_accuracy: 0.8593 - 3s/epoch - 4ms/step\n"
     ]
    },
    {
     "name": "stdout",
     "output_type": "stream",
     "text": [
      "Epoch 68/100\n",
      "719/719 - 2s - loss: 0.1543 - accuracy: 0.9444 - val_loss: 0.3638 - val_accuracy: 0.8585 - 2s/epoch - 3ms/step\n",
      "Epoch 69/100\n",
      "719/719 - 2s - loss: 0.1522 - accuracy: 0.9452 - val_loss: 0.3654 - val_accuracy: 0.8598 - 2s/epoch - 3ms/step\n",
      "Epoch 70/100\n",
      "719/719 - 3s - loss: 0.1503 - accuracy: 0.9464 - val_loss: 0.3674 - val_accuracy: 0.8606 - 3s/epoch - 4ms/step\n",
      "Epoch 71/100\n",
      "719/719 - 3s - loss: 0.1484 - accuracy: 0.9472 - val_loss: 0.3696 - val_accuracy: 0.8590 - 3s/epoch - 4ms/step\n",
      "Epoch 72/100\n",
      "719/719 - 3s - loss: 0.1468 - accuracy: 0.9481 - val_loss: 0.3718 - val_accuracy: 0.8593 - 3s/epoch - 4ms/step\n",
      "Epoch 73/100\n",
      "719/719 - 2s - loss: 0.1449 - accuracy: 0.9492 - val_loss: 0.3742 - val_accuracy: 0.8568 - 2s/epoch - 3ms/step\n",
      "Epoch 74/100\n",
      "719/719 - 2s - loss: 0.1431 - accuracy: 0.9494 - val_loss: 0.3764 - val_accuracy: 0.8579 - 2s/epoch - 3ms/step\n",
      "Epoch 75/100\n",
      "719/719 - 2s - loss: 0.1417 - accuracy: 0.9509 - val_loss: 0.3788 - val_accuracy: 0.8560 - 2s/epoch - 3ms/step\n",
      "Epoch 76/100\n",
      "719/719 - 2s - loss: 0.1398 - accuracy: 0.9513 - val_loss: 0.3812 - val_accuracy: 0.8576 - 2s/epoch - 3ms/step\n",
      "Epoch 77/100\n",
      "719/719 - 3s - loss: 0.1381 - accuracy: 0.9520 - val_loss: 0.3834 - val_accuracy: 0.8552 - 3s/epoch - 4ms/step\n",
      "Epoch 78/100\n",
      "719/719 - 3s - loss: 0.1365 - accuracy: 0.9526 - val_loss: 0.3867 - val_accuracy: 0.8549 - 3s/epoch - 4ms/step\n",
      "Epoch 79/100\n",
      "719/719 - 2s - loss: 0.1350 - accuracy: 0.9536 - val_loss: 0.3891 - val_accuracy: 0.8563 - 2s/epoch - 3ms/step\n",
      "Epoch 80/100\n",
      "719/719 - 2s - loss: 0.1335 - accuracy: 0.9538 - val_loss: 0.3911 - val_accuracy: 0.8544 - 2s/epoch - 3ms/step\n",
      "Epoch 81/100\n",
      "719/719 - 2s - loss: 0.1318 - accuracy: 0.9550 - val_loss: 0.3936 - val_accuracy: 0.8549 - 2s/epoch - 3ms/step\n",
      "Epoch 82/100\n",
      "719/719 - 3s - loss: 0.1306 - accuracy: 0.9558 - val_loss: 0.3963 - val_accuracy: 0.8552 - 3s/epoch - 3ms/step\n",
      "Epoch 83/100\n",
      "719/719 - 3s - loss: 0.1289 - accuracy: 0.9559 - val_loss: 0.3991 - val_accuracy: 0.8539 - 3s/epoch - 4ms/step\n",
      "Epoch 84/100\n",
      "719/719 - 3s - loss: 0.1275 - accuracy: 0.9570 - val_loss: 0.4093 - val_accuracy: 0.8506 - 3s/epoch - 4ms/step\n",
      "Epoch 85/100\n",
      "719/719 - 3s - loss: 0.1261 - accuracy: 0.9571 - val_loss: 0.4046 - val_accuracy: 0.8552 - 3s/epoch - 4ms/step\n",
      "Epoch 86/100\n",
      "719/719 - 3s - loss: 0.1243 - accuracy: 0.9572 - val_loss: 0.4098 - val_accuracy: 0.8541 - 3s/epoch - 4ms/step\n",
      "Epoch 87/100\n",
      "719/719 - 2s - loss: 0.1232 - accuracy: 0.9582 - val_loss: 0.4118 - val_accuracy: 0.8539 - 2s/epoch - 3ms/step\n",
      "Epoch 88/100\n",
      "719/719 - 3s - loss: 0.1217 - accuracy: 0.9583 - val_loss: 0.4156 - val_accuracy: 0.8523 - 3s/epoch - 4ms/step\n",
      "Epoch 89/100\n",
      "719/719 - 2s - loss: 0.1206 - accuracy: 0.9591 - val_loss: 0.4168 - val_accuracy: 0.8528 - 2s/epoch - 3ms/step\n",
      "Epoch 90/100\n",
      "719/719 - 3s - loss: 0.1192 - accuracy: 0.9595 - val_loss: 0.4194 - val_accuracy: 0.8525 - 3s/epoch - 4ms/step\n",
      "Epoch 91/100\n",
      "719/719 - 2s - loss: 0.1178 - accuracy: 0.9605 - val_loss: 0.4230 - val_accuracy: 0.8528 - 2s/epoch - 3ms/step\n",
      "Epoch 92/100\n",
      "719/719 - 2s - loss: 0.1164 - accuracy: 0.9609 - val_loss: 0.4262 - val_accuracy: 0.8512 - 2s/epoch - 3ms/step\n",
      "Epoch 93/100\n",
      "719/719 - 2s - loss: 0.1154 - accuracy: 0.9607 - val_loss: 0.4291 - val_accuracy: 0.8517 - 2s/epoch - 3ms/step\n",
      "Epoch 94/100\n",
      "719/719 - 3s - loss: 0.1141 - accuracy: 0.9614 - val_loss: 0.4322 - val_accuracy: 0.8517 - 3s/epoch - 4ms/step\n",
      "Epoch 95/100\n",
      "719/719 - 2s - loss: 0.1128 - accuracy: 0.9619 - val_loss: 0.4362 - val_accuracy: 0.8482 - 2s/epoch - 3ms/step\n",
      "Epoch 96/100\n",
      "719/719 - 2s - loss: 0.1114 - accuracy: 0.9625 - val_loss: 0.4412 - val_accuracy: 0.8466 - 2s/epoch - 3ms/step\n",
      "Epoch 97/100\n",
      "719/719 - 2s - loss: 0.1106 - accuracy: 0.9627 - val_loss: 0.4443 - val_accuracy: 0.8463 - 2s/epoch - 3ms/step\n",
      "Epoch 98/100\n",
      "719/719 - 3s - loss: 0.1093 - accuracy: 0.9640 - val_loss: 0.4475 - val_accuracy: 0.8463 - 3s/epoch - 4ms/step\n",
      "Epoch 99/100\n",
      "719/719 - 2s - loss: 0.1081 - accuracy: 0.9640 - val_loss: 0.4520 - val_accuracy: 0.8471 - 2s/epoch - 3ms/step\n",
      "Epoch 100/100\n",
      "719/719 - 2s - loss: 0.1070 - accuracy: 0.9649 - val_loss: 0.4540 - val_accuracy: 0.8469 - 2s/epoch - 3ms/step\n"
     ]
    }
   ],
   "source": [
    "tuning_history = tuning_model.fit(training_padded, training_labels, epochs=num_epochs, \n",
    "                              validation_data=(testing_padded, testing_labels), verbose=2)"
   ]
  },
  {
   "cell_type": "code",
   "execution_count": 19,
   "metadata": {},
   "outputs": [
    {
     "data": {
      "image/png": "[encoded data removed]",
      "text/plain": [
       "<Figure size 432x288 with 1 Axes>"
      ]
     },
     "metadata": {
      "needs_background": "light"
     },
     "output_type": "display_data"
    },
    {
     "data": {
      "image/png": "[encoded data removed]",
      "text/plain": [
       "<Figure size 432x288 with 1 Axes>"
      ]
     },
     "metadata": {
      "needs_background": "light"
     },
     "output_type": "display_data"
    }
   ],
   "source": [
    "plot_graphs(tuning_history, \"accuracy\")\n",
    "plot_graphs(tuning_history, \"loss\")"
   ]
  },
  {
   "cell_type": "markdown",
   "metadata": {},
   "source": [
    "Validation-loss is less divergent than before.\n",
    "\n",
    "\n",
    "## 2. Dimension - initially at 16, to 4th-root"
   ]
  },
  {
   "cell_type": "code",
   "execution_count": 20,
   "metadata": {},
   "outputs": [
    {
     "name": "stdout",
     "output_type": "stream",
     "text": [
      "Model: \"sequential_3\"\n",
      "_________________________________________________________________\n",
      " Layer (type)                Output Shape              Param #   \n",
      "=================================================================\n",
      " embedding_3 (Embedding)     (None, None, 10)          100000    \n",
      "                                                                 \n",
      " global_average_pooling1d_2   (None, 10)               0         \n",
      " (GlobalAveragePooling1D)                                        \n",
      "                                                                 \n",
      " dense_6 (Dense)             (None, 24)                264       \n",
      "                                                                 \n",
      " dense_7 (Dense)             (None, 1)                 25        \n",
      "                                                                 \n",
      "=================================================================\n",
      "Total params: 100,289\n",
      "Trainable params: 100,289\n",
      "Non-trainable params: 0\n",
      "_________________________________________________________________\n"
     ]
    }
   ],
   "source": [
    "embedding_dim = 10 ## 4th-root of 10,000 = 10\n",
    "num_epochs = 100\n",
    "\n",
    "tuning_model = tf.keras.Sequential([\n",
    "    tf.keras.layers.Embedding(vocab_size, embedding_dim),\n",
    "    tf.keras.layers.GlobalAveragePooling1D(),\n",
    "    tf.keras.layers.Dense(24, activation='relu'),\n",
    "    tf.keras.layers.Dense(1, activation='sigmoid')\n",
    "])\n",
    "\n",
    "tuning_model.compile(loss='binary_crossentropy',optimizer='adam', metrics=['accuracy'])\n",
    "\n",
    "tuning_model.summary() "
   ]
  },
  {
   "cell_type": "code",
   "execution_count": 21,
   "metadata": {},
   "outputs": [
    {
     "name": "stdout",
     "output_type": "stream",
     "text": [
      "Epoch 1/100\n",
      "719/719 - 4s - loss: 0.6725 - accuracy: 0.5618 - val_loss: 0.6169 - val_accuracy: 0.6522 - 4s/epoch - 5ms/step\n",
      "Epoch 2/100\n",
      "719/719 - 4s - loss: 0.5107 - accuracy: 0.7777 - val_loss: 0.4480 - val_accuracy: 0.8474 - 4s/epoch - 5ms/step\n",
      "Epoch 3/100\n",
      "719/719 - 2s - loss: 0.3866 - accuracy: 0.8714 - val_loss: 0.3927 - val_accuracy: 0.8431 - 2s/epoch - 3ms/step\n",
      "Epoch 4/100\n",
      "719/719 - 3s - loss: 0.3194 - accuracy: 0.8924 - val_loss: 0.3639 - val_accuracy: 0.8590 - 3s/epoch - 3ms/step\n",
      "Epoch 5/100\n",
      "719/719 - 2s - loss: 0.2728 - accuracy: 0.9083 - val_loss: 0.3675 - val_accuracy: 0.8452 - 2s/epoch - 3ms/step\n",
      "Epoch 6/100\n",
      "719/719 - 2s - loss: 0.2387 - accuracy: 0.9206 - val_loss: 0.3530 - val_accuracy: 0.8590 - 2s/epoch - 3ms/step\n",
      "Epoch 7/100\n",
      "719/719 - 2s - loss: 0.2123 - accuracy: 0.9286 - val_loss: 0.3601 - val_accuracy: 0.8582 - 2s/epoch - 2ms/step\n",
      "Epoch 8/100\n",
      "719/719 - 2s - loss: 0.1917 - accuracy: 0.9359 - val_loss: 0.3922 - val_accuracy: 0.8479 - 2s/epoch - 3ms/step\n",
      "Epoch 9/100\n",
      "719/719 - 2s - loss: 0.1744 - accuracy: 0.9423 - val_loss: 0.4022 - val_accuracy: 0.8514 - 2s/epoch - 3ms/step\n",
      "Epoch 10/100\n",
      "719/719 - 3s - loss: 0.1587 - accuracy: 0.9494 - val_loss: 0.4046 - val_accuracy: 0.8531 - 3s/epoch - 4ms/step\n",
      "Epoch 11/100\n",
      "719/719 - 2s - loss: 0.1461 - accuracy: 0.9543 - val_loss: 0.4319 - val_accuracy: 0.8539 - 2s/epoch - 3ms/step\n",
      "Epoch 12/100\n",
      "719/719 - 2s - loss: 0.1354 - accuracy: 0.9575 - val_loss: 0.4643 - val_accuracy: 0.8485 - 2s/epoch - 3ms/step\n",
      "Epoch 13/100\n",
      "719/719 - 2s - loss: 0.1288 - accuracy: 0.9596 - val_loss: 0.4596 - val_accuracy: 0.8398 - 2s/epoch - 3ms/step\n",
      "Epoch 14/100\n",
      "719/719 - 2s - loss: 0.1193 - accuracy: 0.9645 - val_loss: 0.5013 - val_accuracy: 0.8417 - 2s/epoch - 3ms/step\n",
      "Epoch 15/100\n",
      "719/719 - 2s - loss: 0.1120 - accuracy: 0.9673 - val_loss: 0.5105 - val_accuracy: 0.8390 - 2s/epoch - 3ms/step\n",
      "Epoch 16/100\n",
      "719/719 - 2s - loss: 0.1058 - accuracy: 0.9699 - val_loss: 0.5380 - val_accuracy: 0.8366 - 2s/epoch - 3ms/step\n",
      "Epoch 17/100\n",
      "719/719 - 2s - loss: 0.0989 - accuracy: 0.9716 - val_loss: 0.5678 - val_accuracy: 0.8353 - 2s/epoch - 3ms/step\n",
      "Epoch 18/100\n",
      "719/719 - 3s - loss: 0.0930 - accuracy: 0.9756 - val_loss: 0.6177 - val_accuracy: 0.8339 - 3s/epoch - 4ms/step\n",
      "Epoch 19/100\n",
      "719/719 - 2s - loss: 0.0884 - accuracy: 0.9758 - val_loss: 0.6182 - val_accuracy: 0.8207 - 2s/epoch - 3ms/step\n",
      "Epoch 20/100\n",
      "719/719 - 2s - loss: 0.0849 - accuracy: 0.9774 - val_loss: 0.6561 - val_accuracy: 0.8315 - 2s/epoch - 3ms/step\n",
      "Epoch 21/100\n",
      "719/719 - 2s - loss: 0.0801 - accuracy: 0.9793 - val_loss: 0.6640 - val_accuracy: 0.8226 - 2s/epoch - 3ms/step\n",
      "Epoch 22/100\n",
      "719/719 - 2s - loss: 0.0765 - accuracy: 0.9802 - val_loss: 0.7078 - val_accuracy: 0.8272 - 2s/epoch - 3ms/step\n",
      "Epoch 23/100\n",
      "719/719 - 3s - loss: 0.0738 - accuracy: 0.9816 - val_loss: 0.7496 - val_accuracy: 0.8280 - 3s/epoch - 4ms/step\n",
      "Epoch 24/100\n",
      "719/719 - 2s - loss: 0.0685 - accuracy: 0.9827 - val_loss: 0.7785 - val_accuracy: 0.8280 - 2s/epoch - 3ms/step\n",
      "Epoch 25/100\n",
      "719/719 - 2s - loss: 0.0664 - accuracy: 0.9828 - val_loss: 0.8355 - val_accuracy: 0.8269 - 2s/epoch - 3ms/step\n",
      "Epoch 26/100\n",
      "719/719 - 2s - loss: 0.0643 - accuracy: 0.9845 - val_loss: 0.9092 - val_accuracy: 0.8234 - 2s/epoch - 2ms/step\n",
      "Epoch 27/100\n",
      "719/719 - 2s - loss: 0.0620 - accuracy: 0.9840 - val_loss: 0.9545 - val_accuracy: 0.8199 - 2s/epoch - 3ms/step\n",
      "Epoch 28/100\n",
      "719/719 - 2s - loss: 0.0593 - accuracy: 0.9858 - val_loss: 0.8954 - val_accuracy: 0.8202 - 2s/epoch - 3ms/step\n",
      "Epoch 29/100\n",
      "719/719 - 2s - loss: 0.0573 - accuracy: 0.9853 - val_loss: 0.9325 - val_accuracy: 0.8196 - 2s/epoch - 3ms/step\n",
      "Epoch 30/100\n",
      "719/719 - 2s - loss: 0.0556 - accuracy: 0.9868 - val_loss: 0.9952 - val_accuracy: 0.8169 - 2s/epoch - 3ms/step\n",
      "Epoch 31/100\n",
      "719/719 - 2s - loss: 0.0551 - accuracy: 0.9865 - val_loss: 1.0543 - val_accuracy: 0.8207 - 2s/epoch - 3ms/step\n",
      "Epoch 32/100\n",
      "719/719 - 2s - loss: 0.0507 - accuracy: 0.9881 - val_loss: 1.0728 - val_accuracy: 0.8202 - 2s/epoch - 3ms/step\n",
      "Epoch 33/100\n",
      "719/719 - 2s - loss: 0.0481 - accuracy: 0.9890 - val_loss: 1.0239 - val_accuracy: 0.8123 - 2s/epoch - 3ms/step\n",
      "Epoch 34/100\n",
      "719/719 - 2s - loss: 0.0468 - accuracy: 0.9894 - val_loss: 1.1121 - val_accuracy: 0.8159 - 2s/epoch - 3ms/step\n",
      "Epoch 35/100\n",
      "719/719 - 2s - loss: 0.0449 - accuracy: 0.9903 - val_loss: 1.2172 - val_accuracy: 0.8183 - 2s/epoch - 3ms/step\n",
      "Epoch 36/100\n",
      "719/719 - 3s - loss: 0.0443 - accuracy: 0.9900 - val_loss: 1.0672 - val_accuracy: 0.8091 - 3s/epoch - 4ms/step\n",
      "Epoch 37/100\n",
      "719/719 - 2s - loss: 0.0437 - accuracy: 0.9903 - val_loss: 1.3462 - val_accuracy: 0.8142 - 2s/epoch - 3ms/step\n",
      "Epoch 38/100\n",
      "719/719 - 2s - loss: 0.0420 - accuracy: 0.9907 - val_loss: 1.1701 - val_accuracy: 0.8080 - 2s/epoch - 3ms/step\n",
      "Epoch 39/100\n",
      "719/719 - 2s - loss: 0.0402 - accuracy: 0.9913 - val_loss: 1.3253 - val_accuracy: 0.8115 - 2s/epoch - 3ms/step\n",
      "Epoch 40/100\n",
      "719/719 - 2s - loss: 0.0420 - accuracy: 0.9900 - val_loss: 1.3374 - val_accuracy: 0.8118 - 2s/epoch - 3ms/step\n",
      "Epoch 41/100\n",
      "719/719 - 2s - loss: 0.0368 - accuracy: 0.9924 - val_loss: 1.4944 - val_accuracy: 0.8145 - 2s/epoch - 3ms/step\n",
      "Epoch 42/100\n",
      "719/719 - 2s - loss: 0.0388 - accuracy: 0.9914 - val_loss: 1.2698 - val_accuracy: 0.8078 - 2s/epoch - 3ms/step\n",
      "Epoch 43/100\n",
      "719/719 - 2s - loss: 0.0366 - accuracy: 0.9915 - val_loss: 1.4306 - val_accuracy: 0.8113 - 2s/epoch - 3ms/step\n",
      "Epoch 44/100\n",
      "719/719 - 2s - loss: 0.0385 - accuracy: 0.9910 - val_loss: 1.4848 - val_accuracy: 0.8088 - 2s/epoch - 3ms/step\n",
      "Epoch 45/100\n",
      "719/719 - 2s - loss: 0.0346 - accuracy: 0.9922 - val_loss: 1.3549 - val_accuracy: 0.8035 - 2s/epoch - 3ms/step\n",
      "Epoch 46/100\n",
      "719/719 - 2s - loss: 0.0337 - accuracy: 0.9926 - val_loss: 1.3370 - val_accuracy: 0.7989 - 2s/epoch - 3ms/step\n",
      "Epoch 47/100\n",
      "719/719 - 2s - loss: 0.0334 - accuracy: 0.9924 - val_loss: 1.5325 - val_accuracy: 0.8067 - 2s/epoch - 3ms/step\n",
      "Epoch 48/100\n",
      "719/719 - 2s - loss: 0.0320 - accuracy: 0.9923 - val_loss: 1.5573 - val_accuracy: 0.8061 - 2s/epoch - 3ms/step\n",
      "Epoch 49/100\n",
      "719/719 - 2s - loss: 0.0288 - accuracy: 0.9939 - val_loss: 1.4958 - val_accuracy: 0.8059 - 2s/epoch - 3ms/step\n",
      "Epoch 50/100\n",
      "719/719 - 3s - loss: 0.0295 - accuracy: 0.9932 - val_loss: 1.4627 - val_accuracy: 0.7989 - 3s/epoch - 3ms/step\n",
      "Epoch 51/100\n",
      "719/719 - 2s - loss: 0.0288 - accuracy: 0.9929 - val_loss: 1.6263 - val_accuracy: 0.8048 - 2s/epoch - 3ms/step\n",
      "Epoch 52/100\n",
      "719/719 - 2s - loss: 0.0290 - accuracy: 0.9924 - val_loss: 1.5614 - val_accuracy: 0.8016 - 2s/epoch - 3ms/step\n",
      "Epoch 53/100\n",
      "719/719 - 2s - loss: 0.0265 - accuracy: 0.9932 - val_loss: 1.6808 - val_accuracy: 0.8029 - 2s/epoch - 3ms/step\n",
      "Epoch 54/100\n",
      "719/719 - 2s - loss: 0.0258 - accuracy: 0.9932 - val_loss: 1.8013 - val_accuracy: 0.8048 - 2s/epoch - 3ms/step\n",
      "Epoch 55/100\n",
      "719/719 - 2s - loss: 0.0243 - accuracy: 0.9936 - val_loss: 1.7568 - val_accuracy: 0.8018 - 2s/epoch - 3ms/step\n",
      "Epoch 56/100\n",
      "719/719 - 2s - loss: 0.0240 - accuracy: 0.9932 - val_loss: 1.8291 - val_accuracy: 0.8059 - 2s/epoch - 3ms/step\n",
      "Epoch 57/100\n",
      "719/719 - 2s - loss: 0.0214 - accuracy: 0.9943 - val_loss: 1.8799 - val_accuracy: 0.8018 - 2s/epoch - 3ms/step\n",
      "Epoch 58/100\n",
      "719/719 - 2s - loss: 0.0211 - accuracy: 0.9936 - val_loss: 2.0407 - val_accuracy: 0.8043 - 2s/epoch - 3ms/step\n",
      "Epoch 59/100\n",
      "719/719 - 2s - loss: 0.0207 - accuracy: 0.9937 - val_loss: 1.8961 - val_accuracy: 0.7940 - 2s/epoch - 3ms/step\n",
      "Epoch 60/100\n",
      "719/719 - 2s - loss: 0.0187 - accuracy: 0.9940 - val_loss: 1.9059 - val_accuracy: 0.7943 - 2s/epoch - 3ms/step\n",
      "Epoch 61/100\n",
      "719/719 - 2s - loss: 0.0170 - accuracy: 0.9942 - val_loss: 1.9753 - val_accuracy: 0.7967 - 2s/epoch - 3ms/step\n",
      "Epoch 62/100\n",
      "719/719 - 2s - loss: 0.0151 - accuracy: 0.9943 - val_loss: 2.0642 - val_accuracy: 0.7975 - 2s/epoch - 3ms/step\n",
      "Epoch 63/100\n",
      "719/719 - 2s - loss: 0.0144 - accuracy: 0.9939 - val_loss: 2.1573 - val_accuracy: 0.7991 - 2s/epoch - 3ms/step\n",
      "Epoch 64/100\n",
      "719/719 - 3s - loss: 0.0133 - accuracy: 0.9940 - val_loss: 2.1996 - val_accuracy: 0.7962 - 3s/epoch - 4ms/step\n",
      "Epoch 65/100\n",
      "719/719 - 3s - loss: 0.0127 - accuracy: 0.9938 - val_loss: 2.2397 - val_accuracy: 0.7972 - 3s/epoch - 4ms/step\n",
      "Epoch 66/100\n",
      "719/719 - 2s - loss: 0.0100 - accuracy: 0.9943 - val_loss: 2.3933 - val_accuracy: 0.7991 - 2s/epoch - 3ms/step\n",
      "Epoch 67/100\n",
      "719/719 - 2s - loss: 0.0088 - accuracy: 0.9960 - val_loss: 2.2131 - val_accuracy: 0.7927 - 2s/epoch - 3ms/step\n"
     ]
    },
    {
     "name": "stdout",
     "output_type": "stream",
     "text": [
      "Epoch 68/100\n",
      "719/719 - 3s - loss: 0.0075 - accuracy: 0.9981 - val_loss: 2.3943 - val_accuracy: 0.7902 - 3s/epoch - 4ms/step\n",
      "Epoch 69/100\n",
      "719/719 - 2s - loss: 0.0123 - accuracy: 0.9969 - val_loss: 2.3621 - val_accuracy: 0.7905 - 2s/epoch - 3ms/step\n",
      "Epoch 70/100\n",
      "719/719 - 2s - loss: 0.0081 - accuracy: 0.9980 - val_loss: 2.5751 - val_accuracy: 0.7994 - 2s/epoch - 3ms/step\n",
      "Epoch 71/100\n",
      "719/719 - 2s - loss: 0.0069 - accuracy: 0.9985 - val_loss: 2.5915 - val_accuracy: 0.7954 - 2s/epoch - 3ms/step\n",
      "Epoch 72/100\n",
      "719/719 - 2s - loss: 0.0052 - accuracy: 0.9988 - val_loss: 2.6282 - val_accuracy: 0.7951 - 2s/epoch - 3ms/step\n",
      "Epoch 73/100\n",
      "719/719 - 2s - loss: 0.0052 - accuracy: 0.9989 - val_loss: 2.6474 - val_accuracy: 0.7959 - 2s/epoch - 3ms/step\n",
      "Epoch 74/100\n",
      "719/719 - 2s - loss: 0.0048 - accuracy: 0.9990 - val_loss: 2.7027 - val_accuracy: 0.7916 - 2s/epoch - 2ms/step\n",
      "Epoch 75/100\n",
      "719/719 - 2s - loss: 0.0045 - accuracy: 0.9990 - val_loss: 2.5619 - val_accuracy: 0.7832 - 2s/epoch - 3ms/step\n",
      "Epoch 76/100\n",
      "719/719 - 2s - loss: 0.0087 - accuracy: 0.9971 - val_loss: 2.5997 - val_accuracy: 0.7902 - 2s/epoch - 2ms/step\n",
      "Epoch 77/100\n",
      "719/719 - 2s - loss: 0.0041 - accuracy: 0.9991 - val_loss: 2.8191 - val_accuracy: 0.7935 - 2s/epoch - 2ms/step\n",
      "Epoch 78/100\n",
      "719/719 - 2s - loss: 0.0047 - accuracy: 0.9988 - val_loss: 2.8404 - val_accuracy: 0.7900 - 2s/epoch - 2ms/step\n",
      "Epoch 79/100\n",
      "719/719 - 2s - loss: 0.0033 - accuracy: 0.9991 - val_loss: 2.9825 - val_accuracy: 0.7927 - 2s/epoch - 2ms/step\n",
      "Epoch 80/100\n",
      "719/719 - 2s - loss: 0.0070 - accuracy: 0.9978 - val_loss: 2.9009 - val_accuracy: 0.7927 - 2s/epoch - 3ms/step\n",
      "Epoch 81/100\n",
      "719/719 - 2s - loss: 0.0045 - accuracy: 0.9989 - val_loss: 2.9249 - val_accuracy: 0.7924 - 2s/epoch - 3ms/step\n",
      "Epoch 82/100\n",
      "719/719 - 2s - loss: 0.0030 - accuracy: 0.9993 - val_loss: 2.9309 - val_accuracy: 0.7929 - 2s/epoch - 3ms/step\n",
      "Epoch 83/100\n",
      "719/719 - 2s - loss: 0.0045 - accuracy: 0.9986 - val_loss: 3.0144 - val_accuracy: 0.7929 - 2s/epoch - 3ms/step\n",
      "Epoch 84/100\n",
      "719/719 - 2s - loss: 0.0029 - accuracy: 0.9993 - val_loss: 3.0966 - val_accuracy: 0.7943 - 2s/epoch - 3ms/step\n",
      "Epoch 85/100\n",
      "719/719 - 2s - loss: 0.0037 - accuracy: 0.9990 - val_loss: 3.0962 - val_accuracy: 0.7921 - 2s/epoch - 3ms/step\n",
      "Epoch 86/100\n",
      "719/719 - 2s - loss: 0.0040 - accuracy: 0.9986 - val_loss: 3.1175 - val_accuracy: 0.7892 - 2s/epoch - 3ms/step\n",
      "Epoch 87/100\n",
      "719/719 - 2s - loss: 0.0065 - accuracy: 0.9977 - val_loss: 3.2395 - val_accuracy: 0.7964 - 2s/epoch - 3ms/step\n",
      "Epoch 88/100\n",
      "719/719 - 2s - loss: 0.0039 - accuracy: 0.9987 - val_loss: 3.1874 - val_accuracy: 0.7946 - 2s/epoch - 3ms/step\n",
      "Epoch 89/100\n",
      "719/719 - 3s - loss: 0.0024 - accuracy: 0.9994 - val_loss: 3.2027 - val_accuracy: 0.7940 - 3s/epoch - 3ms/step\n",
      "Epoch 90/100\n",
      "719/719 - 2s - loss: 0.0042 - accuracy: 0.9987 - val_loss: 3.5904 - val_accuracy: 0.8051 - 2s/epoch - 3ms/step\n",
      "Epoch 91/100\n",
      "719/719 - 2s - loss: 0.0043 - accuracy: 0.9986 - val_loss: 3.3047 - val_accuracy: 0.7962 - 2s/epoch - 3ms/step\n",
      "Epoch 92/100\n",
      "719/719 - 2s - loss: 0.0031 - accuracy: 0.9991 - val_loss: 3.3220 - val_accuracy: 0.7954 - 2s/epoch - 3ms/step\n",
      "Epoch 93/100\n",
      "719/719 - 2s - loss: 0.0033 - accuracy: 0.9989 - val_loss: 3.1245 - val_accuracy: 0.7862 - 2s/epoch - 3ms/step\n",
      "Epoch 94/100\n",
      "719/719 - 2s - loss: 0.0058 - accuracy: 0.9979 - val_loss: 3.2896 - val_accuracy: 0.7935 - 2s/epoch - 3ms/step\n",
      "Epoch 95/100\n",
      "719/719 - 2s - loss: 0.0027 - accuracy: 0.9993 - val_loss: 3.6919 - val_accuracy: 0.7986 - 2s/epoch - 3ms/step\n",
      "Epoch 96/100\n",
      "719/719 - 3s - loss: 0.0017 - accuracy: 0.9996 - val_loss: 3.3531 - val_accuracy: 0.7908 - 3s/epoch - 3ms/step\n",
      "Epoch 97/100\n",
      "719/719 - 2s - loss: 0.0049 - accuracy: 0.9987 - val_loss: 3.3733 - val_accuracy: 0.7927 - 2s/epoch - 3ms/step\n",
      "Epoch 98/100\n",
      "719/719 - 2s - loss: 0.0034 - accuracy: 0.9987 - val_loss: 3.8062 - val_accuracy: 0.8021 - 2s/epoch - 3ms/step\n",
      "Epoch 99/100\n",
      "719/719 - 2s - loss: 0.0059 - accuracy: 0.9978 - val_loss: 3.4154 - val_accuracy: 0.7978 - 2s/epoch - 3ms/step\n",
      "Epoch 100/100\n",
      "719/719 - 2s - loss: 0.0016 - accuracy: 0.9996 - val_loss: 3.4980 - val_accuracy: 0.7989 - 2s/epoch - 3ms/step\n"
     ]
    }
   ],
   "source": [
    "tuning_history = tuning_model.fit(training_padded, training_labels, epochs=num_epochs, \n",
    "                              validation_data=(testing_padded, testing_labels), verbose=2)"
   ]
  },
  {
   "cell_type": "code",
   "execution_count": 22,
   "metadata": {},
   "outputs": [
    {
     "data": {
      "image/png": "[encoded data removed]",
      "text/plain": [
       "<Figure size 432x288 with 1 Axes>"
      ]
     },
     "metadata": {
      "needs_background": "light"
     },
     "output_type": "display_data"
    },
    {
     "data": {
      "image/png": "[encoded data removed]",
      "text/plain": [
       "<Figure size 432x288 with 1 Axes>"
      ]
     },
     "metadata": {
      "needs_background": "light"
     },
     "output_type": "display_data"
    }
   ],
   "source": [
    "plot_graphs(tuning_history, \"accuracy\")\n",
    "plot_graphs(tuning_history, \"loss\")"
   ]
  },
  {
   "cell_type": "markdown",
   "metadata": {},
   "source": [
    "### Looks like we are heading down the wrong direction!\n",
    "\n",
    "Try something else...\n",
    "\n",
    "## 3. Dropout and Regularization (L2)\n",
    "\n",
    "Note: we are throwing dropout and regularization together below (usually one at a time)"
   ]
  },
  {
   "cell_type": "code",
   "execution_count": 23,
   "metadata": {},
   "outputs": [
    {
     "name": "stdout",
     "output_type": "stream",
     "text": [
      "Model: \"sequential_4\"\n",
      "_________________________________________________________________\n",
      " Layer (type)                Output Shape              Param #   \n",
      "=================================================================\n",
      " embedding_4 (Embedding)     (None, None, 10)          100000    \n",
      "                                                                 \n",
      " global_average_pooling1d_3   (None, 10)               0         \n",
      " (GlobalAveragePooling1D)                                        \n",
      "                                                                 \n",
      " dense_8 (Dense)             (None, 24)                264       \n",
      "                                                                 \n",
      " dropout (Dropout)           (None, 24)                0         \n",
      "                                                                 \n",
      " dense_9 (Dense)             (None, 1)                 25        \n",
      "                                                                 \n",
      "=================================================================\n",
      "Total params: 100,289\n",
      "Trainable params: 100,289\n",
      "Non-trainable params: 0\n",
      "_________________________________________________________________\n"
     ]
    }
   ],
   "source": [
    "embedding_dim = 10 ## 4th-root of 10,000 = 10\n",
    "num_epochs = 30\n",
    "\n",
    "tuning_model = tf.keras.Sequential([\n",
    "    tf.keras.layers.Embedding(vocab_size, embedding_dim),\n",
    "    tf.keras.layers.GlobalAveragePooling1D(),\n",
    "    tf.keras.layers.Dense(24, activation='relu',\n",
    "                         kernel_regularizer = tf.keras.regularizers.l2(0.01)),\n",
    "    tf.keras.layers.Dropout(.25),\n",
    "    tf.keras.layers.Dense(1, activation='sigmoid')\n",
    "])\n",
    "\n",
    "tuning_model.compile(loss='binary_crossentropy',optimizer='adam', metrics=['accuracy'])\n",
    "\n",
    "tuning_model.summary() "
   ]
  },
  {
   "cell_type": "code",
   "execution_count": 24,
   "metadata": {},
   "outputs": [
    {
     "name": "stdout",
     "output_type": "stream",
     "text": [
      "Epoch 1/30\n",
      "719/719 - 4s - loss: 0.7102 - accuracy: 0.5588 - val_loss: 0.6832 - val_accuracy: 0.5700 - 4s/epoch - 5ms/step\n",
      "Epoch 2/30\n",
      "719/719 - 2s - loss: 0.6836 - accuracy: 0.5596 - val_loss: 0.6738 - val_accuracy: 0.5700 - 2s/epoch - 3ms/step\n",
      "Epoch 3/30\n",
      "719/719 - 2s - loss: 0.6355 - accuracy: 0.6568 - val_loss: 0.5784 - val_accuracy: 0.7687 - 2s/epoch - 3ms/step\n",
      "Epoch 4/30\n",
      "719/719 - 2s - loss: 0.5383 - accuracy: 0.8025 - val_loss: 0.5087 - val_accuracy: 0.8345 - 2s/epoch - 3ms/step\n",
      "Epoch 5/30\n",
      "719/719 - 2s - loss: 0.4810 - accuracy: 0.8326 - val_loss: 0.4684 - val_accuracy: 0.8361 - 2s/epoch - 3ms/step\n",
      "Epoch 6/30\n",
      "719/719 - 2s - loss: 0.4436 - accuracy: 0.8483 - val_loss: 0.4447 - val_accuracy: 0.8434 - 2s/epoch - 3ms/step\n",
      "Epoch 7/30\n",
      "719/719 - 2s - loss: 0.4117 - accuracy: 0.8650 - val_loss: 0.4258 - val_accuracy: 0.8514 - 2s/epoch - 3ms/step\n",
      "Epoch 8/30\n",
      "719/719 - 3s - loss: 0.3878 - accuracy: 0.8754 - val_loss: 0.4152 - val_accuracy: 0.8539 - 3s/epoch - 4ms/step\n",
      "Epoch 9/30\n",
      "719/719 - 2s - loss: 0.3670 - accuracy: 0.8815 - val_loss: 0.4040 - val_accuracy: 0.8490 - 2s/epoch - 3ms/step\n",
      "Epoch 10/30\n",
      "719/719 - 2s - loss: 0.3482 - accuracy: 0.8888 - val_loss: 0.3922 - val_accuracy: 0.8593 - 2s/epoch - 3ms/step\n",
      "Epoch 11/30\n",
      "719/719 - 2s - loss: 0.3342 - accuracy: 0.8913 - val_loss: 0.3899 - val_accuracy: 0.8579 - 2s/epoch - 3ms/step\n",
      "Epoch 12/30\n",
      "719/719 - 2s - loss: 0.3188 - accuracy: 0.8967 - val_loss: 0.3815 - val_accuracy: 0.8574 - 2s/epoch - 3ms/step\n",
      "Epoch 13/30\n",
      "719/719 - 2s - loss: 0.3057 - accuracy: 0.9017 - val_loss: 0.3763 - val_accuracy: 0.8601 - 2s/epoch - 3ms/step\n",
      "Epoch 14/30\n",
      "719/719 - 2s - loss: 0.2947 - accuracy: 0.9078 - val_loss: 0.3774 - val_accuracy: 0.8576 - 2s/epoch - 3ms/step\n",
      "Epoch 15/30\n",
      "719/719 - 2s - loss: 0.2851 - accuracy: 0.9100 - val_loss: 0.3740 - val_accuracy: 0.8590 - 2s/epoch - 3ms/step\n",
      "Epoch 16/30\n",
      "719/719 - 2s - loss: 0.2736 - accuracy: 0.9130 - val_loss: 0.3715 - val_accuracy: 0.8585 - 2s/epoch - 3ms/step\n",
      "Epoch 17/30\n",
      "719/719 - 2s - loss: 0.2659 - accuracy: 0.9176 - val_loss: 0.3698 - val_accuracy: 0.8582 - 2s/epoch - 3ms/step\n",
      "Epoch 18/30\n",
      "719/719 - 2s - loss: 0.2573 - accuracy: 0.9204 - val_loss: 0.3732 - val_accuracy: 0.8576 - 2s/epoch - 3ms/step\n",
      "Epoch 19/30\n",
      "719/719 - 2s - loss: 0.2500 - accuracy: 0.9207 - val_loss: 0.3701 - val_accuracy: 0.8590 - 2s/epoch - 3ms/step\n",
      "Epoch 20/30\n",
      "719/719 - 2s - loss: 0.2420 - accuracy: 0.9269 - val_loss: 0.3754 - val_accuracy: 0.8598 - 2s/epoch - 3ms/step\n",
      "Epoch 21/30\n",
      "719/719 - 2s - loss: 0.2373 - accuracy: 0.9270 - val_loss: 0.3742 - val_accuracy: 0.8590 - 2s/epoch - 3ms/step\n",
      "Epoch 22/30\n",
      "719/719 - 2s - loss: 0.2303 - accuracy: 0.9306 - val_loss: 0.3769 - val_accuracy: 0.8587 - 2s/epoch - 3ms/step\n",
      "Epoch 23/30\n",
      "719/719 - 2s - loss: 0.2231 - accuracy: 0.9329 - val_loss: 0.3792 - val_accuracy: 0.8558 - 2s/epoch - 2ms/step\n",
      "Epoch 24/30\n",
      "719/719 - 2s - loss: 0.2193 - accuracy: 0.9333 - val_loss: 0.3825 - val_accuracy: 0.8587 - 2s/epoch - 2ms/step\n",
      "Epoch 25/30\n",
      "719/719 - 2s - loss: 0.2139 - accuracy: 0.9367 - val_loss: 0.3853 - val_accuracy: 0.8590 - 2s/epoch - 2ms/step\n",
      "Epoch 26/30\n",
      "719/719 - 2s - loss: 0.2072 - accuracy: 0.9394 - val_loss: 0.3881 - val_accuracy: 0.8587 - 2s/epoch - 3ms/step\n",
      "Epoch 27/30\n",
      "719/719 - 2s - loss: 0.2036 - accuracy: 0.9403 - val_loss: 0.3936 - val_accuracy: 0.8520 - 2s/epoch - 3ms/step\n",
      "Epoch 28/30\n",
      "719/719 - 2s - loss: 0.1972 - accuracy: 0.9436 - val_loss: 0.3934 - val_accuracy: 0.8576 - 2s/epoch - 3ms/step\n",
      "Epoch 29/30\n",
      "719/719 - 2s - loss: 0.1934 - accuracy: 0.9454 - val_loss: 0.4117 - val_accuracy: 0.8539 - 2s/epoch - 3ms/step\n",
      "Epoch 30/30\n",
      "719/719 - 2s - loss: 0.1917 - accuracy: 0.9453 - val_loss: 0.4026 - val_accuracy: 0.8568 - 2s/epoch - 3ms/step\n"
     ]
    }
   ],
   "source": [
    "tuning_history = tuning_model.fit(training_padded, training_labels, epochs=num_epochs, \n",
    "                              validation_data=(testing_padded, testing_labels), verbose=2)"
   ]
  },
  {
   "cell_type": "code",
   "execution_count": 25,
   "metadata": {},
   "outputs": [
    {
     "data": {
      "image/png": "[encoded data removed]",
      "text/plain": [
       "<Figure size 432x288 with 1 Axes>"
      ]
     },
     "metadata": {
      "needs_background": "light"
     },
     "output_type": "display_data"
    },
    {
     "data": {
      "image/png": "[encoded data removed]",
      "text/plain": [
       "<Figure size 432x288 with 1 Axes>"
      ]
     },
     "metadata": {
      "needs_background": "light"
     },
     "output_type": "display_data"
    }
   ],
   "source": [
    "plot_graphs(tuning_history, \"accuracy\")\n",
    "plot_graphs(tuning_history, \"loss\")"
   ]
  },
  {
   "cell_type": "markdown",
   "metadata": {},
   "source": [
    "# Testing"
   ]
  },
  {
   "cell_type": "code",
   "execution_count": 26,
   "metadata": {
    "colab": {},
    "colab_type": "code",
    "id": "cG8-ArY-qDcz"
   },
   "outputs": [
    {
     "name": "stdout",
     "output_type": "stream",
     "text": [
      "1 is sacarsm, 0 is not\n",
      "[[0.01832026]\n",
      " [0.23153561]\n",
      " [0.00725162]\n",
      " [0.48445904]\n",
      " [0.9677321 ]]\n"
     ]
    }
   ],
   "source": [
    "test_sentences = [\n",
    "    \"Football season finale showing this sunday night\"\n",
    "    \"It Was, For, Uh, Medical Reasons, Says Doctor To Boris Johnson, Explaining Why They Had To Give Him Haircut\",\n",
    "    \"It's a beautiful sunny day\",\n",
    "    \"I lived in Ireland, so in High School they made me learn to speak and write in Gaelic\",\n",
    "    \"granny starting to fear spiders in the garden might be real\",\n",
    "    \"Census Foot Soldiers Swarm Neighborhoods, Kick Down Doors To Tally Household Sizes\"]\n",
    "\n",
    "sequences = tokenizer.texts_to_sequences(test_sentences)\n",
    "#print(sequences)\n",
    "padded = pad_sequences(sequences, maxlen=max_length, padding=padding_type, truncating=trunc_type)\n",
    "#print(padded)\n",
    "\n",
    "predictions = tuning_model.predict(padded)\n",
    "print(\"1 is sacarsm, 0 is not\")\n",
    "print(predictions)"
   ]
  },
  {
   "cell_type": "markdown",
   "metadata": {},
   "source": [
    "# Not bad?"
   ]
  }
 ],
 "metadata": {
  "accelerator": "GPU",
  "colab": {
   "collapsed_sections": [],
   "include_colab_link": true,
   "name": "sarcasm_glove.ipynb",
   "provenance": [],
   "toc_visible": true
  },
  "kernelspec": {
   "display_name": "Python 3 (ipykernel)",
   "language": "python",
   "name": "python3"
  },
  "language_info": {
   "codemirror_mode": {
    "name": "ipython",
    "version": 3
   },
   "file_extension": ".py",
   "mimetype": "text/x-python",
   "name": "python",
   "nbconvert_exporter": "python",
   "pygments_lexer": "ipython3",
   "version": "3.9.7"
  }
 },
 "nbformat": 4,
 "nbformat_minor": 1
}
